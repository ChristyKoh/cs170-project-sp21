{
 "cells": [
  {
   "cell_type": "code",
   "execution_count": 1,
   "metadata": {},
   "outputs": [],
   "source": [
    "import networkx as nx\n",
    "import matplotlib.pyplot as plt\n",
    "import numpy as np\n",
    "import random\n",
    "import scipy as sp"
   ]
  },
  {
   "cell_type": "code",
   "execution_count": 2,
   "metadata": {},
   "outputs": [],
   "source": [
    "from parse import *"
   ]
  },
  {
   "cell_type": "markdown",
   "metadata": {},
   "source": [
    "## Randomly remove edges"
   ]
  },
  {
   "cell_type": "code",
   "execution_count": 34,
   "metadata": {},
   "outputs": [],
   "source": [
    "Gg = read_input_file(\"inputs/small/small-120.in\")"
   ]
  },
  {
   "cell_type": "code",
   "execution_count": 35,
   "metadata": {},
   "outputs": [
    {
     "data": {
      "image/png": "[encoded data removed]",
      "text/plain": [
       "<Figure size 432x288 with 1 Axes>"
      ]
     },
     "metadata": {},
     "output_type": "display_data"
    }
   ],
   "source": [
    "nx.draw(Gg, with_labels=True, font_weight='bold')"
   ]
  },
  {
   "cell_type": "code",
   "execution_count": 5,
   "metadata": {},
   "outputs": [
    {
     "data": {
      "text/plain": [
       "292"
      ]
     },
     "execution_count": 5,
     "metadata": {},
     "output_type": "execute_result"
    }
   ],
   "source": [
    "l = len(list(Gg.edges))\n",
    "l"
   ]
  },
  {
   "cell_type": "code",
   "execution_count": 6,
   "metadata": {},
   "outputs": [
    {
     "data": {
      "text/plain": [
       "5.074866030134501e+24"
      ]
     },
     "execution_count": 6,
     "metadata": {},
     "output_type": "execute_result"
    }
   ],
   "source": [
    "sp.special.binom(l, l - 15)"
   ]
  },
  {
   "cell_type": "code",
   "execution_count": 7,
   "metadata": {},
   "outputs": [
    {
     "data": {
      "text/plain": [
       "25.282"
      ]
     },
     "execution_count": 7,
     "metadata": {},
     "output_type": "execute_result"
    }
   ],
   "source": [
    "nx.dijkstra_path_length(Gg, 0, 29)"
   ]
  },
  {
   "cell_type": "code",
   "execution_count": 8,
   "metadata": {},
   "outputs": [],
   "source": [
    "def rem_random(G, k):\n",
    "    \"\"\"\n",
    "    G: graph input\n",
    "    k: number of random graphs to consider\n",
    "    \"\"\"\n",
    "    v = G.number_of_nodes() - 1\n",
    "    path = nx.dijkstra_path(G, 0, v)\n",
    "    longest_min_path = nx.dijkstra_path_length(G, 0, v)\n",
    "    rm_edges = 0\n",
    "    rm_node = 0\n",
    "    \n",
    "    nodes = np.sort(list(G.nodes))[1:][:-1]\n",
    "    \n",
    "    for n in nodes:\n",
    "        G_prime = nx.Graph(G)\n",
    "        G_prime.remove_node(n)\n",
    "        \n",
    "        G_prime_edges = list(G_prime.edges)\n",
    "        \n",
    "        for _ in range(k):\n",
    "            to_remove = random.sample(G_prime_edges, 15)\n",
    "            G_prime.remove_edges_from(to_remove)\n",
    "            \n",
    "            if nx.is_connected(G_prime):\n",
    "                new_min_path = nx.dijkstra_path_length(G_prime, 0, v)\n",
    "        \n",
    "                if new_min_path > longest_min_path:\n",
    "                    longest_min_path = new_min_path\n",
    "                    rm_edges = to_remove\n",
    "                    path = nx.dijkstra_path(G_prime, 0, v)\n",
    "                    rm_node = n\n",
    "            \n",
    "    return path, longest_min_path, rm_edges, rm_node"
   ]
  },
  {
   "cell_type": "code",
   "execution_count": 9,
   "metadata": {},
   "outputs": [
    {
     "ename": "KeyboardInterrupt",
     "evalue": "",
     "output_type": "error",
     "traceback": [
      "\u001b[0;31m---------------------------------------------------------------------------\u001b[0m",
      "\u001b[0;31mKeyboardInterrupt\u001b[0m                         Traceback (most recent call last)",
      "\u001b[0;32m<ipython-input-9-01cddd8d188f>\u001b[0m in \u001b[0;36m<module>\u001b[0;34m\u001b[0m\n\u001b[0;32m----> 1\u001b[0;31m \u001b[0mr\u001b[0m \u001b[0;34m=\u001b[0m \u001b[0mrem_random\u001b[0m\u001b[0;34m(\u001b[0m\u001b[0mGg\u001b[0m\u001b[0;34m,\u001b[0m \u001b[0;36m50000\u001b[0m\u001b[0;34m)\u001b[0m\u001b[0;34m\u001b[0m\u001b[0;34m\u001b[0m\u001b[0m\n\u001b[0m\u001b[1;32m      2\u001b[0m \u001b[0mr\u001b[0m\u001b[0;34m\u001b[0m\u001b[0;34m\u001b[0m\u001b[0m\n",
      "\u001b[0;32m<ipython-input-8-bf65b3e786e0>\u001b[0m in \u001b[0;36mrem_random\u001b[0;34m(G, k)\u001b[0m\n\u001b[1;32m     19\u001b[0m \u001b[0;34m\u001b[0m\u001b[0m\n\u001b[1;32m     20\u001b[0m         \u001b[0;32mfor\u001b[0m \u001b[0m_\u001b[0m \u001b[0;32min\u001b[0m \u001b[0mrange\u001b[0m\u001b[0;34m(\u001b[0m\u001b[0mk\u001b[0m\u001b[0;34m)\u001b[0m\u001b[0;34m:\u001b[0m\u001b[0;34m\u001b[0m\u001b[0;34m\u001b[0m\u001b[0m\n\u001b[0;32m---> 21\u001b[0;31m             \u001b[0mto_remove\u001b[0m \u001b[0;34m=\u001b[0m \u001b[0mrandom\u001b[0m\u001b[0;34m.\u001b[0m\u001b[0msample\u001b[0m\u001b[0;34m(\u001b[0m\u001b[0mG_prime_edges\u001b[0m\u001b[0;34m,\u001b[0m \u001b[0;36m15\u001b[0m\u001b[0;34m)\u001b[0m\u001b[0;34m\u001b[0m\u001b[0;34m\u001b[0m\u001b[0m\n\u001b[0m\u001b[1;32m     22\u001b[0m             \u001b[0mG_prime\u001b[0m\u001b[0;34m.\u001b[0m\u001b[0mremove_edges_from\u001b[0m\u001b[0;34m(\u001b[0m\u001b[0mto_remove\u001b[0m\u001b[0;34m)\u001b[0m\u001b[0;34m\u001b[0m\u001b[0;34m\u001b[0m\u001b[0m\n\u001b[1;32m     23\u001b[0m \u001b[0;34m\u001b[0m\u001b[0m\n",
      "\u001b[0;32m~/opt/anaconda3/lib/python3.7/random.py\u001b[0m in \u001b[0;36msample\u001b[0;34m(self, population, k)\u001b[0m\n\u001b[1;32m    335\u001b[0m             \u001b[0mselected_add\u001b[0m \u001b[0;34m=\u001b[0m \u001b[0mselected\u001b[0m\u001b[0;34m.\u001b[0m\u001b[0madd\u001b[0m\u001b[0;34m\u001b[0m\u001b[0;34m\u001b[0m\u001b[0m\n\u001b[1;32m    336\u001b[0m             \u001b[0;32mfor\u001b[0m \u001b[0mi\u001b[0m \u001b[0;32min\u001b[0m \u001b[0mrange\u001b[0m\u001b[0;34m(\u001b[0m\u001b[0mk\u001b[0m\u001b[0;34m)\u001b[0m\u001b[0;34m:\u001b[0m\u001b[0;34m\u001b[0m\u001b[0;34m\u001b[0m\u001b[0m\n\u001b[0;32m--> 337\u001b[0;31m                 \u001b[0mj\u001b[0m \u001b[0;34m=\u001b[0m \u001b[0mrandbelow\u001b[0m\u001b[0;34m(\u001b[0m\u001b[0mn\u001b[0m\u001b[0;34m)\u001b[0m\u001b[0;34m\u001b[0m\u001b[0;34m\u001b[0m\u001b[0m\n\u001b[0m\u001b[1;32m    338\u001b[0m                 \u001b[0;32mwhile\u001b[0m \u001b[0mj\u001b[0m \u001b[0;32min\u001b[0m \u001b[0mselected\u001b[0m\u001b[0;34m:\u001b[0m\u001b[0;34m\u001b[0m\u001b[0;34m\u001b[0m\u001b[0m\n\u001b[1;32m    339\u001b[0m                     \u001b[0mj\u001b[0m \u001b[0;34m=\u001b[0m \u001b[0mrandbelow\u001b[0m\u001b[0;34m(\u001b[0m\u001b[0mn\u001b[0m\u001b[0;34m)\u001b[0m\u001b[0;34m\u001b[0m\u001b[0;34m\u001b[0m\u001b[0m\n",
      "\u001b[0;32m~/opt/anaconda3/lib/python3.7/random.py\u001b[0m in \u001b[0;36m_randbelow\u001b[0;34m(self, n, int, maxsize, type, Method, BuiltinMethod)\u001b[0m\n\u001b[1;32m    230\u001b[0m         \u001b[0;31m# Only call self.getrandbits if the original random() builtin method\u001b[0m\u001b[0;34m\u001b[0m\u001b[0;34m\u001b[0m\u001b[0;34m\u001b[0m\u001b[0m\n\u001b[1;32m    231\u001b[0m         \u001b[0;31m# has not been overridden or if a new getrandbits() was supplied.\u001b[0m\u001b[0;34m\u001b[0m\u001b[0;34m\u001b[0m\u001b[0;34m\u001b[0m\u001b[0m\n\u001b[0;32m--> 232\u001b[0;31m         \u001b[0;32mif\u001b[0m \u001b[0mtype\u001b[0m\u001b[0;34m(\u001b[0m\u001b[0mrandom\u001b[0m\u001b[0;34m)\u001b[0m \u001b[0;32mis\u001b[0m \u001b[0mBuiltinMethod\u001b[0m \u001b[0;32mor\u001b[0m \u001b[0mtype\u001b[0m\u001b[0;34m(\u001b[0m\u001b[0mgetrandbits\u001b[0m\u001b[0;34m)\u001b[0m \u001b[0;32mis\u001b[0m \u001b[0mMethod\u001b[0m\u001b[0;34m:\u001b[0m\u001b[0;34m\u001b[0m\u001b[0;34m\u001b[0m\u001b[0m\n\u001b[0m\u001b[1;32m    233\u001b[0m             \u001b[0mk\u001b[0m \u001b[0;34m=\u001b[0m \u001b[0mn\u001b[0m\u001b[0;34m.\u001b[0m\u001b[0mbit_length\u001b[0m\u001b[0;34m(\u001b[0m\u001b[0;34m)\u001b[0m  \u001b[0;31m# don't use (n-1) here because n can be 1\u001b[0m\u001b[0;34m\u001b[0m\u001b[0;34m\u001b[0m\u001b[0m\n\u001b[1;32m    234\u001b[0m             \u001b[0mr\u001b[0m \u001b[0;34m=\u001b[0m \u001b[0mgetrandbits\u001b[0m\u001b[0;34m(\u001b[0m\u001b[0mk\u001b[0m\u001b[0;34m)\u001b[0m          \u001b[0;31m# 0 <= r < 2**k\u001b[0m\u001b[0;34m\u001b[0m\u001b[0;34m\u001b[0m\u001b[0m\n",
      "\u001b[0;31mKeyboardInterrupt\u001b[0m: "
     ]
    }
   ],
   "source": [
    "r = rem_random(Gg, 50000)\n",
    "r"
   ]
  },
  {
   "cell_type": "code",
   "execution_count": null,
   "metadata": {},
   "outputs": [],
   "source": []
  },
  {
   "cell_type": "code",
   "execution_count": null,
   "metadata": {},
   "outputs": [],
   "source": [
    "Gg2 = read_input_file(\"inputs/small/small-8.in\")"
   ]
  },
  {
   "cell_type": "code",
   "execution_count": null,
   "metadata": {},
   "outputs": [],
   "source": [
    "r2 = rem_random(Gg2, 50000)\n",
    "r2"
   ]
  },
  {
   "cell_type": "code",
   "execution_count": null,
   "metadata": {},
   "outputs": [],
   "source": [
    "print(\"This graph has\", Gg2.number_of_nodes(), \"nodes and\", Gg2.number_of_edges(), \"edges\")\n",
    "\n",
    "nx.draw(Gg2, with_labels=True, font_weight='bold');"
   ]
  },
  {
   "cell_type": "code",
   "execution_count": 29,
   "metadata": {},
   "outputs": [
    {
     "data": {
      "text/plain": [
       "34.0"
      ]
     },
     "execution_count": 29,
     "metadata": {},
     "output_type": "execute_result"
    }
   ],
   "source": [
    "nx.dijkstra_path_length(Gg2, 0, 29)"
   ]
  },
  {
   "cell_type": "markdown",
   "metadata": {},
   "source": [
    "## Rank edge based on heuristics"
   ]
  },
  {
   "cell_type": "code",
   "execution_count": 71,
   "metadata": {},
   "outputs": [],
   "source": [
    "Gg = read_input_file(\"inputs/medium/medium-20.in\")"
   ]
  },
  {
   "cell_type": "code",
   "execution_count": 77,
   "metadata": {},
   "outputs": [],
   "source": [
    "import heapq\n",
    "from itertools import permutations \n"
   ]
  },
  {
   "cell_type": "code",
   "execution_count": 39,
   "metadata": {},
   "outputs": [],
   "source": [
    "def dijsktra_path(G):\n",
    "    node_count = len(G.nodes)\n",
    "    path = nx.dijkstra_path(G, 0, node_count - 1)\n",
    "    print(path)\n",
    "    edge = [(path[i], path[i + 1]) for i in range(len(path) - 1)]\n",
    "    return edge"
   ]
  },
  {
   "cell_type": "code",
   "execution_count": 101,
   "metadata": {},
   "outputs": [
    {
     "name": "stdout",
     "output_type": "stream",
     "text": [
      "-\n",
      "[]\n",
      "42\n",
      "42\n",
      "42\n",
      "42\n",
      "42\n",
      "42\n",
      "[]\n",
      "[]\n"
     ]
    },
    {
     "ename": "AssertionError",
     "evalue": "",
     "output_type": "error",
     "traceback": [
      "\u001b[0;31m---------------------------------------------------------------------------\u001b[0m",
      "\u001b[0;31mAssertionError\u001b[0m                            Traceback (most recent call last)",
      "\u001b[0;32m<ipython-input-101-c227a1e87fad>\u001b[0m in \u001b[0;36m<module>\u001b[0;34m\u001b[0m\n\u001b[1;32m    234\u001b[0m \u001b[0;34m\u001b[0m\u001b[0m\n\u001b[1;32m    235\u001b[0m \u001b[0;34m\u001b[0m\u001b[0m\n\u001b[0;32m--> 236\u001b[0;31m \u001b[0mdj_beam_search\u001b[0m\u001b[0;34m(\u001b[0m\u001b[0mGg\u001b[0m\u001b[0;34m,\u001b[0m \u001b[0;36m3\u001b[0m\u001b[0;34m,\u001b[0m \u001b[0;36m50\u001b[0m\u001b[0;34m,\u001b[0m \u001b[0;36m6\u001b[0m\u001b[0;34m)\u001b[0m\u001b[0;34m\u001b[0m\u001b[0;34m\u001b[0m\u001b[0m\n\u001b[0m\u001b[1;32m    237\u001b[0m \u001b[0;34m\u001b[0m\u001b[0m\n\u001b[1;32m    238\u001b[0m \u001b[0;34m\u001b[0m\u001b[0m\n",
      "\u001b[0;32m<ipython-input-101-c227a1e87fad>\u001b[0m in \u001b[0;36mdj_beam_search\u001b[0;34m(G, cnum, knum, beamSize)\u001b[0m\n\u001b[1;32m    218\u001b[0m                 \u001b[0mbest_edges\u001b[0m \u001b[0;34m=\u001b[0m \u001b[0mheapq\u001b[0m\u001b[0;34m.\u001b[0m\u001b[0mnlargest\u001b[0m\u001b[0;34m(\u001b[0m\u001b[0mbeamSize\u001b[0m\u001b[0;34m,\u001b[0m \u001b[0mshortest\u001b[0m\u001b[0;34m,\u001b[0m \u001b[0mkey\u001b[0m\u001b[0;34m=\u001b[0m\u001b[0;32mlambda\u001b[0m \u001b[0mx\u001b[0m\u001b[0;34m:\u001b[0m \u001b[0mcalculate_score_\u001b[0m\u001b[0;34m(\u001b[0m\u001b[0mG_copy\u001b[0m\u001b[0;34m,\u001b[0m \u001b[0mb\u001b[0m\u001b[0;34m[\u001b[0m\u001b[0;36m0\u001b[0m\u001b[0;34m]\u001b[0m\u001b[0;34m,\u001b[0m \u001b[0mb\u001b[0m\u001b[0;34m[\u001b[0m\u001b[0;36m1\u001b[0m\u001b[0;34m]\u001b[0m \u001b[0;34m+\u001b[0m \u001b[0;34m[\u001b[0m\u001b[0mx\u001b[0m\u001b[0;34m]\u001b[0m\u001b[0;34m)\u001b[0m\u001b[0;34m)\u001b[0m\u001b[0;34m\u001b[0m\u001b[0;34m\u001b[0m\u001b[0m\n\u001b[1;32m    219\u001b[0m                 \u001b[0;32mfor\u001b[0m \u001b[0mi\u001b[0m \u001b[0;32min\u001b[0m \u001b[0mbest_edges\u001b[0m\u001b[0;34m:\u001b[0m\u001b[0;34m\u001b[0m\u001b[0;34m\u001b[0m\u001b[0m\n\u001b[0;32m--> 220\u001b[0;31m                     \u001b[0mnew_beams\u001b[0m\u001b[0;34m.\u001b[0m\u001b[0mappend\u001b[0m\u001b[0;34m(\u001b[0m\u001b[0;34m[\u001b[0m\u001b[0mb\u001b[0m\u001b[0;34m[\u001b[0m\u001b[0;36m0\u001b[0m\u001b[0;34m]\u001b[0m\u001b[0;34m,\u001b[0m \u001b[0mb\u001b[0m\u001b[0;34m[\u001b[0m\u001b[0;36m1\u001b[0m\u001b[0;34m]\u001b[0m \u001b[0;34m+\u001b[0m \u001b[0;34m[\u001b[0m\u001b[0mi\u001b[0m\u001b[0;34m]\u001b[0m\u001b[0;34m,\u001b[0m \u001b[0mcalculate_score\u001b[0m\u001b[0;34m(\u001b[0m\u001b[0mG_copy\u001b[0m\u001b[0;34m,\u001b[0m \u001b[0mb\u001b[0m\u001b[0;34m[\u001b[0m\u001b[0;36m0\u001b[0m\u001b[0;34m]\u001b[0m\u001b[0;34m,\u001b[0m \u001b[0mb\u001b[0m\u001b[0;34m[\u001b[0m\u001b[0;36m1\u001b[0m\u001b[0;34m]\u001b[0m \u001b[0;34m+\u001b[0m \u001b[0;34m[\u001b[0m\u001b[0mi\u001b[0m\u001b[0;34m]\u001b[0m\u001b[0;34m)\u001b[0m\u001b[0;34m]\u001b[0m\u001b[0;34m)\u001b[0m\u001b[0;34m\u001b[0m\u001b[0;34m\u001b[0m\u001b[0m\n\u001b[0m\u001b[1;32m    221\u001b[0m \u001b[0;34m\u001b[0m\u001b[0m\n\u001b[1;32m    222\u001b[0m         \u001b[0mbeams\u001b[0m \u001b[0;34m=\u001b[0m \u001b[0mheapq\u001b[0m\u001b[0;34m.\u001b[0m\u001b[0mnlargest\u001b[0m\u001b[0;34m(\u001b[0m\u001b[0mbeamSize\u001b[0m\u001b[0;34m,\u001b[0m \u001b[0mnew_beams\u001b[0m\u001b[0;34m,\u001b[0m \u001b[0mkey\u001b[0m\u001b[0;34m=\u001b[0m\u001b[0;32mlambda\u001b[0m \u001b[0mx\u001b[0m\u001b[0;34m:\u001b[0m \u001b[0mx\u001b[0m\u001b[0;34m[\u001b[0m\u001b[0;36m2\u001b[0m\u001b[0;34m]\u001b[0m\u001b[0;34m)\u001b[0m \u001b[0;31m#beamsize * 2?\u001b[0m\u001b[0;34m\u001b[0m\u001b[0;34m\u001b[0m\u001b[0m\n",
      "\u001b[0;32m<ipython-input-12-a3d3b06bc02a>\u001b[0m in \u001b[0;36mcalculate_score\u001b[0;34m(G, c, k)\u001b[0m\n\u001b[1;32m     10\u001b[0m     \"\"\"\n\u001b[1;32m     11\u001b[0m     \u001b[0mH\u001b[0m \u001b[0;34m=\u001b[0m \u001b[0mG\u001b[0m\u001b[0;34m.\u001b[0m\u001b[0mcopy\u001b[0m\u001b[0;34m(\u001b[0m\u001b[0;34m)\u001b[0m\u001b[0;34m\u001b[0m\u001b[0;34m\u001b[0m\u001b[0m\n\u001b[0;32m---> 12\u001b[0;31m     \u001b[0;32massert\u001b[0m \u001b[0mis_valid_solution\u001b[0m\u001b[0;34m(\u001b[0m\u001b[0mH\u001b[0m\u001b[0;34m,\u001b[0m \u001b[0mc\u001b[0m\u001b[0;34m,\u001b[0m \u001b[0mk\u001b[0m\u001b[0;34m)\u001b[0m\u001b[0;34m\u001b[0m\u001b[0;34m\u001b[0m\u001b[0m\n\u001b[0m\u001b[1;32m     13\u001b[0m     \u001b[0mnode_count\u001b[0m \u001b[0;34m=\u001b[0m \u001b[0mlen\u001b[0m\u001b[0;34m(\u001b[0m\u001b[0mH\u001b[0m\u001b[0;34m.\u001b[0m\u001b[0mnodes\u001b[0m\u001b[0;34m)\u001b[0m\u001b[0;34m\u001b[0m\u001b[0;34m\u001b[0m\u001b[0m\n\u001b[1;32m     14\u001b[0m     \u001b[0moriginal_min_dist\u001b[0m \u001b[0;34m=\u001b[0m \u001b[0mnx\u001b[0m\u001b[0;34m.\u001b[0m\u001b[0mdijkstra_path_length\u001b[0m\u001b[0;34m(\u001b[0m\u001b[0mH\u001b[0m\u001b[0;34m,\u001b[0m \u001b[0;36m0\u001b[0m\u001b[0;34m,\u001b[0m \u001b[0mnode_count\u001b[0m\u001b[0;34m-\u001b[0m\u001b[0;36m1\u001b[0m\u001b[0;34m)\u001b[0m\u001b[0;34m\u001b[0m\u001b[0;34m\u001b[0m\u001b[0m\n",
      "\u001b[0;31mAssertionError\u001b[0m: "
     ]
    }
   ],
   "source": [
    "def score_components(Gg):\n",
    "    dj_path = dijsktra_path(Gg)\n",
    "    weight = []\n",
    "    conn = []\n",
    "    score = []\n",
    "    in_shortest_path = []\n",
    "    num_nodes = len(Gg.nodes)\n",
    "    \n",
    "    edges = Gg.edges.data()\n",
    "    for u, v, prop in edges:\n",
    "        conn.append(Gg.degree[u] + Gg.degree[v] - 2)\n",
    "        weight.append(prop['weight'])\n",
    "        if (u,v) in dj_path:\n",
    "            in_shortest_path.append(0.8) #tune this weight\n",
    "        else:\n",
    "            in_shortest_path.append(0)\n",
    "    \n",
    "    #normalize score \n",
    "    min_weight = min(weight)\n",
    "    max_conn = max(conn)\n",
    "    weight = [min_weight/w for w in weight] #less than 1\n",
    "    conn  = [c/max_conn for c in conn] #less than 1\n",
    "    \n",
    "    #calculate edge score\n",
    "    e_score = np.array([conn[i] + weight[i] * 1.5 + in_shortest_path[i] for i in range(len(edges))])\n",
    "\n",
    "    #add attribute e_score to each edge\n",
    "    nx.set_edge_attributes(Gg, {e: {'score': e_score[i]} for i,e in enumerate(Gg.edges)})\n",
    "\n",
    "    #calc score of node based on collective sum of e_score \n",
    "    n_score = []\n",
    "    for i, node in enumerate(Gg.nodes):\n",
    "        prop = Gg.edges(node, data='score')\n",
    "        score = sum(i[2] for i in prop) / len(prop)\n",
    "        n_score.append(score)\n",
    "    \n",
    "    # rank edges:\n",
    "    edges = list(Gg.edges)\n",
    "    argsort = np.argsort(np.array(e_score))\n",
    "    sorted_edge = [edges[i] for i in argsort]\n",
    "    sorted_node = np.argsort(np.array(n_score))\n",
    "    sorted_node = sorted_node[sorted_node != 0]\n",
    "    sorted_node = sorted_node[sorted_node != num_nodes - 1]\n",
    "    return sorted_edge, sorted_node\n",
    "    \n",
    "def heuristics_plain(G, cnum, knum):\n",
    "    \"\"\"\n",
    "    Args:\n",
    "        G: networkx.Graph\n",
    "    Returns:\n",
    "        c: list of cities to remove\n",
    "        k: list of edges to remove\n",
    "    \"\"\"\n",
    "    G_cut = G.copy()\n",
    "    sorted_edge, sorted_node = score_components(G_cut)\n",
    "    c, k = [], []\n",
    "\n",
    "\n",
    "    for n in sorted_node:\n",
    "        copy = G_cut.copy()\n",
    "        copy.remove_node(n)\n",
    "        if nx.is_connected(copy):\n",
    "            cnum -= 1\n",
    "            c.append(n)\n",
    "            G_cut = copy\n",
    "        if cnum == 0:\n",
    "            break\n",
    "\n",
    "    for u, v in sorted_edge:\n",
    "        if u not in c and v not in c:\n",
    "            G_cut.remove_edge(u, v)\n",
    "            if nx.is_connected(G_cut):\n",
    "                knum -= 1 \n",
    "                k.append((u, v))\n",
    "            else:\n",
    "                G_cut.add_edge(u, v)\n",
    "        if knum == 0:\n",
    "            break\n",
    "    \n",
    "    return c, k\n",
    "\n",
    "def heuristics_greedy(G, cnum, knum):\n",
    "    \n",
    "    G_cut = G.copy()\n",
    "    sorted_edge, sorted_node = score_components(G_cut)\n",
    "    sorted_node = sorted_node[:30]\n",
    "    c, k = [], []\n",
    "    \n",
    "    while len(c) < cnum:\n",
    "        score_node = max(sorted_node, key=lambda x: calculate_score(G, c + [x], k))\n",
    "        c.append(score_node)\n",
    "        \n",
    "    \n",
    "    sorted_edge =list(filter(lambda e: e[0] not in c and e[1] not in c, sorted_edge))\n",
    "    print(c)\n",
    "    \n",
    "    while len(k) < knum:\n",
    "        \n",
    "        sorted_edge = list(filter(lambda x: is_valid_solution(G, c, k + [x]), sorted_edge))\n",
    "        print(len(sorted_edge))\n",
    "        score_edge = max(sorted_edge, key=lambda x: calculate_score(G, c, k + [x]))\n",
    "        k.append(score_edge)\n",
    "        print(k)\n",
    "        sorted_edge.remove(score_edge)\n",
    "    \n",
    "    return c, k\n",
    "        \n",
    "\n",
    "def look_advace_small(G, cnum, knum, beamSize):\n",
    "    \n",
    "    \n",
    "    G_cut = G.copy()\n",
    "    sorted_edge, sorted_node = score_components(G_cut)\n",
    "    sorted_node = sorted_node[:30]\n",
    "    c, k = [], []\n",
    "    \n",
    "    while len(c) < cnum:\n",
    "        score_node = max(sorted_node, key=lambda x: calculate_score(G, c + [x], k))\n",
    "        c.append(score_node)\n",
    "    \n",
    "    sorted_edge =list(filter(lambda e: e[0] not in c and e[1] not in c, sorted_edge))\n",
    "    sorted_edge = list(filter(lambda x: is_valid_solution(G, c, k + [x]), sorted_edge))\n",
    "    nlargest = heapq.nlargest(beamSize, sorted_edge, key=lambda x: calculate_score(G, c, k + [x]))\n",
    "    \n",
    "    beams = [[[x for x in sorted_edge if x != i], [i], calculate_score(G, c, [i])] for i in nlargest] # [list_of_edges, k, score]\n",
    "    \n",
    "    k_tracker = 0\n",
    "    while k_tracker < knum:\n",
    "        new_beams = []\n",
    "        # curate new beams \n",
    "        for b in beams:\n",
    "            b[0] = list(filter(lambda x: is_valid_solution(G, c, b[1] + [x]), b[0]))\n",
    "            nlargest = heapq.nlargest(beamSize, b[0], key=lambda x: calculate_score(G, c, b[1] + [x]))\n",
    "            for i in nlargest:\n",
    "                new_beams.append([[x for x in b[0] if x != i], b[1] + [i], calculate_score(G, c, b[1] + [i])])\n",
    "            \n",
    "        beams = heapq.nlargest(beamSize, new_beams, key=lambda x: x[2])\n",
    "                        \n",
    "        k_tracker += 1\n",
    "    \n",
    "    best = max(beams, key=lambda x:x[2])\n",
    "    \n",
    "\n",
    "    return c, best[1], best[2]\n",
    "\n",
    "def dj_beam_search(G, cnum, knum, beamSize):\n",
    "    c, k = [], []\n",
    "    edges = list(G.edges)\n",
    "    node_count = len(G.nodes)\n",
    "    nodes = list(Gg.nodes)\n",
    "    nodes.remove(0)\n",
    "    nodes.remove(node_count - 1)\n",
    "    \n",
    "    \n",
    "    G_copy = G.copy()\n",
    "    beams = [[[], []]]  #[c, k, score]\n",
    "    k_count = 0\n",
    "    while k_count < knum - 1:\n",
    "        new_beams = []\n",
    "        for b in beams:\n",
    "            shortest = dijsktra_path_(G.copy(), b[0], b[1])\n",
    "            shortest = list(filter(lambda x: is_valid_solution(G_copy, b[0], b[1] + [x]), shortest))\n",
    "            best_edges = heapq.nlargest(beamSize, shortest, key=lambda x: calculate_score(G_copy, b[0], b[1] + [x]))\n",
    "            for i in best_edges:\n",
    "                new_beams.append([b[0], b[1] + [i], calculate_score(G_copy, b[0], b[1] + [i])])\n",
    "            \n",
    "        beams = heapq.nlargest(beamSize, new_beams, key=lambda x: x[2]) #beamsize * 2?\n",
    "        k_count += 1 \n",
    "    \n",
    "    print('-')\n",
    "    forbidden_node = [n for n in nodes if not is_valid_solution(G_copy, [n], [])]\n",
    "    print(forbidden_node)\n",
    "    \n",
    "    #remove node that has high overlap\n",
    "    new_beams = []\n",
    "    for b in beams:\n",
    "        overlap = {}\n",
    "        \n",
    "        edges = b[1]\n",
    "        for i in edges:\n",
    "            if i[0] not in overlap:\n",
    "                overlap[i[0]] = 1\n",
    "            elif i[1] not in overlap:\n",
    "                overlap[i[1]] = 1\n",
    "            else:\n",
    "                overlap[i[1]] += 1\n",
    "                overlap[i[0]] += 1\n",
    "                \n",
    "        sorted_node = heapq.nlargest(beamSize * 2, overlap.keys(), key=lambda x: overlap[x])\n",
    "        sorted_node.remove(0)\n",
    "        sorted_node.remove(49)\n",
    "    \n",
    "        node_perm = list(permutations(sorted_node, cnum))\n",
    "        sorted_node_perm = heapq.nlargest(beamSize, node_perm, key=lambda x: calculate_score_(G_copy, x, edges))\n",
    "\n",
    "        for c in sorted_node_perm:\n",
    "            new_beams.append([c, edges, calculate_score(G_copy, c, edges)])\n",
    "    \n",
    "    beams = heapq.nlargest(beamSize, new_beams, key=lambda x: x[2])\n",
    "    \n",
    "    #remove edges that overlap with node\n",
    "    for b in beams:\n",
    "        b[1] =list(filter(lambda e: e[0] not in c and e[1] not in c, b[1]))\n",
    "        print(len(b[1]))\n",
    "    \n",
    "    #add edge till limit is reached\n",
    "    \n",
    "    done = []\n",
    "    \n",
    "    while len(done) != beamSize:\n",
    "        print(done)\n",
    "        new_beams = []\n",
    "        for b in beams:\n",
    "            if len(b[1]) == knum:\n",
    "                done.append(b)\n",
    "            else:\n",
    "                shortest = dijsktra_path_(G.copy(), b[0], b[1])\n",
    "                best_edges = heapq.nlargest(beamSize, shortest, key=lambda x: calculate_score_(G_copy, b[0], b[1] + [x]))\n",
    "                for i in best_edges:\n",
    "                    new_beams.append([b[0], b[1] + [i], calculate_score(G_copy, b[0], b[1] + [i])])\n",
    "            \n",
    "        beams = heapq.nlargest(beamSize, new_beams, key=lambda x: x[2]) #beamsize * 2?\n",
    "    \n",
    "    \n",
    "    best = max(beams, key=lambda x:x[2])\n",
    "        \n",
    "\n",
    "    \n",
    "    \n",
    "#     for b in beams:\n",
    "        \n",
    "    \n",
    "    \n",
    "        \n",
    "    \n",
    "    \n",
    "    \n",
    "dj_beam_search(Gg, 3, 50, 6)\n",
    "\n",
    "    \n",
    "    \n",
    "    \n",
    "    \n",
    "\n",
    "\n",
    "\n",
    "    "
   ]
  },
  {
   "cell_type": "markdown",
   "metadata": {},
   "source": [
    "## Utils"
   ]
  },
  {
   "cell_type": "code",
   "execution_count": 12,
   "metadata": {},
   "outputs": [],
   "source": [
    "def calculate_score(G, c, k):\n",
    "    \"\"\"\n",
    "    Calculates the difference between the original shortest path and the new shortest path.\n",
    "    Args:\n",
    "        G: networkx.Graph\n",
    "        c: list of cities to remove\n",
    "        k: list of edges to remove\n",
    "    Returns:\n",
    "        float: total score\n",
    "    \"\"\"\n",
    "    H = G.copy()\n",
    "    assert is_valid_solution(H, c, k)\n",
    "    node_count = len(H.nodes)\n",
    "    original_min_dist = nx.dijkstra_path_length(H, 0, node_count-1)\n",
    "    H.remove_edges_from(k)\n",
    "    H.remove_nodes_from(c)\n",
    "    final_min_dist = nx.dijkstra_path_length(H, 0, node_count-1)\n",
    "    difference = final_min_dist - original_min_dist\n",
    "    return difference"
   ]
  },
  {
   "cell_type": "code",
   "execution_count": 85,
   "metadata": {},
   "outputs": [],
   "source": [
    "def calculate_score_(G, c, k):\n",
    "    H = G.copy()\n",
    "    if not is_valid_solution(H, c, k):\n",
    "        return 0\n",
    "    node_count = len(H.nodes)\n",
    "    original_min_dist = nx.dijkstra_path_length(H, 0, node_count-1)\n",
    "    H.remove_edges_from(k)\n",
    "    H.remove_nodes_from(c)\n",
    "    final_min_dist = nx.dijkstra_path_length(H, 0, node_count-1)\n",
    "    difference = final_min_dist - original_min_dist\n",
    "    return difference"
   ]
  },
  {
   "cell_type": "code",
   "execution_count": 13,
   "metadata": {},
   "outputs": [],
   "source": [
    "def is_valid_solution(G, c, k):\n",
    "    \"\"\"\n",
    "    Checks whether D is a valid mapping of G, by checking every room adheres to the stress budget.\n",
    "    Args:\n",
    "        G: networkx.Graph\n",
    "        c: List of cities to remove\n",
    "        k: List of edges to remove (List of tuples)\n",
    "    Returns:\n",
    "        bool: false if removing k and c disconnects the graph\n",
    "    \"\"\"\n",
    "    size = len(G)\n",
    "    H = G.copy()\n",
    "    for road in k:\n",
    "        assert H.has_edge(road[0], road[1]), \"Invalid Solution: {} is not a valid edge in graph G\".format(road)\n",
    "    H.remove_edges_from(k)\n",
    "    \n",
    "    for city in c:\n",
    "        assert H.has_node(city), \"Invalid Solution: {} is not a valid node in graph G\".format(city)\n",
    "    H.remove_nodes_from(c)\n",
    "    \n",
    "    assert H.has_node(0), 'Invalid Solution: Source vertex is removed'\n",
    "    assert H.has_node(size - 1), 'Invalid Solution: Target vertex is removed'\n",
    "\n",
    "    return nx.is_connected(H)"
   ]
  },
  {
   "cell_type": "code",
   "execution_count": 63,
   "metadata": {},
   "outputs": [],
   "source": [
    "def dijsktra_path_(G, c , k):\n",
    "    G.remove_edges_from(k)\n",
    "    G.remove_nodes_from(c)\n",
    "    node_count = len(G.nodes)\n",
    "    path = nx.dijkstra_path(G, 0, node_count - 1)\n",
    "#     print(path)\n",
    "    edge = [(path[i], path[i + 1]) for i in range(len(path) - 1)]\n",
    "    return edge"
   ]
  },
  {
   "cell_type": "code",
   "execution_count": null,
   "metadata": {},
   "outputs": [],
   "source": []
  }
 ],
 "metadata": {
  "kernelspec": {
   "display_name": "Python 3",
   "language": "python",
   "name": "python3"
  },
  "language_info": {
   "codemirror_mode": {
    "name": "ipython",
    "version": 3
   },
   "file_extension": ".py",
   "mimetype": "text/x-python",
   "name": "python",
   "nbconvert_exporter": "python",
   "pygments_lexer": "ipython3",
   "version": "3.7.4"
  }
 },
 "nbformat": 4,
 "nbformat_minor": 2
}
